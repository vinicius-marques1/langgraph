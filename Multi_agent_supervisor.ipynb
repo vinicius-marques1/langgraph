{
 "cells": [
  {
   "cell_type": "code",
   "execution_count": 1,
   "metadata": {},
   "outputs": [],
   "source": [
    "%%capture --no-stderr\n",
    "%pip install -U langgraph langchain_community langchain_openai langchain_experimental"
   ]
  },
  {
   "cell_type": "code",
   "execution_count": 2,
   "metadata": {},
   "outputs": [],
   "source": [
    "import getpass\n",
    "import os\n",
    "\n",
    "\n",
    "def _set_if_undefined(var: str):\n",
    "    if not os.environ.get(var):\n",
    "        os.environ[var] = getpass.getpass(f\"Please provide your {var}\")\n",
    "\n",
    "\n",
    "_set_if_undefined(\"OPENAI_API_KEY\")\n",
    "_set_if_undefined(\"TAVILY_API_KEY\")"
   ]
  },
  {
   "cell_type": "code",
   "execution_count": 3,
   "metadata": {},
   "outputs": [],
   "source": [
    "from typing import Annotated\n",
    "\n",
    "from langchain_community.tools.tavily_search import TavilySearchResults\n",
    "from langchain_core.tools import tool\n",
    "from langchain_experimental.utilities import PythonREPL\n",
    "\n",
    "tavily_tool = TavilySearchResults(max_results=5)\n",
    "\n",
    "# This executes code locally, which can be unsafe\n",
    "repl = PythonREPL()\n",
    "\n",
    "\n",
    "@tool\n",
    "def python_repl_tool(\n",
    "    code: Annotated[str, \"The python code to execute to generate your chart.\"],\n",
    "):\n",
    "    \"\"\"Use this to execute python code and do math. If you want to see the output of a value,\n",
    "    you should print it out with `print(...)`. This is visible to the user.\"\"\"\n",
    "    try:\n",
    "        result = repl.run(code)\n",
    "    except BaseException as e:\n",
    "        return f\"Failed to execute. Error: {repr(e)}\"\n",
    "    result_str = f\"Successfully executed:\\n\\`\\`\\`python\\n{code}\\n\\`\\`\\`\\nStdout: {result}\"\n",
    "    return result_str"
   ]
  },
  {
   "cell_type": "code",
   "execution_count": 4,
   "metadata": {},
   "outputs": [],
   "source": [
    "from langgraph.graph import MessagesState"
   ]
  },
  {
   "cell_type": "code",
   "execution_count": 5,
   "metadata": {},
   "outputs": [],
   "source": [
    "# The agent state is the input to each node in the graph\n",
    "class AgentState(MessagesState):\n",
    "    # The 'next' field indicates where to route to next\n",
    "    next: str"
   ]
  },
  {
   "cell_type": "code",
   "execution_count": 7,
   "metadata": {},
   "outputs": [],
   "source": [
    "from typing import Literal\n",
    "from typing_extensions import TypedDict\n",
    "\n",
    "from langchain_openai import ChatOpenAI\n",
    "\n",
    "members = [\"researcher\", \"coder\"]\n",
    "# Our team supervisor is an LLM node. It just picks the next agent to process\n",
    "# and decides when the work is completed\n",
    "options = members + [\"FINISH\"]\n",
    "\n",
    "system_prompt = (\n",
    "    \"You are a supervisor tasked with managing a conversation between the\"\n",
    "    f\" following workers: {members}. Given the following user request,\"\n",
    "    \" respond with the worker to act next. Each worker will perform a\"\n",
    "    \" task and respond with their results and status. When finished,\"\n",
    "    \" respond with FINISH.\"\n",
    ")\n",
    "\n",
    "\n",
    "class Router(TypedDict):\n",
    "    \"\"\"Worker to route to next. If no workers needed, route to FINISH.\"\"\"\n",
    "\n",
    "    next: Literal['researcher', 'coder', 'FINISH']\n",
    "\n",
    "\n",
    "llm = ChatOpenAI()\n",
    "\n",
    "\n",
    "def supervisor_node(state: AgentState) -> AgentState:\n",
    "    messages = [\n",
    "        {\"role\": \"system\", \"content\": system_prompt},\n",
    "    ] + state[\"messages\"]\n",
    "    response = llm.with_structured_output(Router).invoke(messages)\n",
    "    next_ = response[\"next\"]\n",
    "    if next_ == \"FINISH\":\n",
    "        next_ = END\n",
    "\n",
    "    return {\"next\": next_}"
   ]
  },
  {
   "cell_type": "code",
   "execution_count": null,
   "metadata": {},
   "outputs": [
    {
     "data": {
      "text/plain": [
       "<langgraph.graph.state.StateGraph at 0x7fa16547d0f0>"
      ]
     },
     "execution_count": 34,
     "metadata": {},
     "output_type": "execute_result"
    }
   ],
   "source": [
    "from langchain_core.messages import HumanMessage, AIMessage\n",
    "from langgraph.graph import StateGraph, START, END\n",
    "from langgraph.prebuilt import create_react_agent\n",
    "\n",
    "\n",
    "research_agent = create_react_agent(\n",
    "    llm, tools=[tavily_tool], state_modifier=\"You are a researcher. DO NOT do any math.\"\n",
    ")\n",
    "\n",
    "\n",
    "def research_node(state: AgentState) -> AgentState:\n",
    "    result = research_agent.invoke(state)\n",
    "    return {\n",
    "        \"messages\": [\n",
    "            HumanMessage(content=result[\"messages\"][-1].content, name=\"researcher\")\n",
    "        ]\n",
    "    }\n",
    "\n",
    "\n",
    "# NOTE: THIS PERFORMS ARBITRARY CODE EXECUTION, WHICH CAN BE UNSAFE WHEN NOT SANDBOXED\n",
    "code_agent = create_react_agent(llm, tools=[python_repl_tool])\n",
    "\n",
    "\n",
    "def code_node(state: AgentState) -> AgentState:\n",
    "    result = code_agent.invoke(state)\n",
    "    return {\n",
    "        \"messages\": [HumanMessage(content=result[\"messages\"][-1].content, name=\"coder\")]\n",
    "    }\n",
    "\n",
    "\n",
    "builder = StateGraph(AgentState)\n",
    "builder.add_edge(START, \"supervisor\")\n",
    "builder.add_node(\"supervisor\", supervisor_node)\n",
    "builder.add_node(\"researcher\", research_node)\n",
    "builder.add_node(\"coder\", code_node)"
   ]
  },
  {
   "cell_type": "code",
   "execution_count": 35,
   "metadata": {},
   "outputs": [],
   "source": [
    "from langgraph.checkpoint.memory import MemorySaver\n",
    "\n",
    "for member in members:\n",
    "    # We want our workers to ALWAYS \"report back\" to the supervisor when done\n",
    "    builder.add_edge(member, \"supervisor\")\n",
    "\n",
    "# The supervisor populates the \"next\" field in the graph state\n",
    "# which routes to a node or finishes\n",
    "builder.add_conditional_edges(\"supervisor\", lambda state: state[\"next\"])\n",
    "# Finally, add entrypoint\n",
    "builder.add_edge(START, \"supervisor\")\n",
    "\n",
    "memory = MemorySaver()\n",
    "graph = builder.compile(checkpointer=memory)"
   ]
  },
  {
   "cell_type": "code",
   "execution_count": 16,
   "metadata": {},
   "outputs": [
    {
     "data": {
      "image/png": "[encoded data removed]",
      "text/plain": [
       "<IPython.core.display.Image object>"
      ]
     },
     "metadata": {},
     "output_type": "display_data"
    }
   ],
   "source": [
    "from IPython.display import display, Image\n",
    "\n",
    "display(Image(graph.get_graph().draw_mermaid_png()))"
   ]
  },
  {
   "cell_type": "code",
   "execution_count": 38,
   "metadata": {},
   "outputs": [],
   "source": [
    "def run_graph(input: str, config: dict):\n",
    "    for s in graph.stream(\n",
    "        {\"messages\": [(\"user\", input)]}, config, subgraphs=True\n",
    "    ):\n",
    "        data = s[1]\n",
    "        if metadata := data.get('supervisor', ''):\n",
    "            next = metadata['next']\n",
    "            print(f'Próximo Node: {next}')\n",
    "        elif metadata := data.get('agent', ''):\n",
    "            message = metadata['messages'][-1].pretty_print()\n",
    "            print(message)\n",
    "        elif metadata := data.get('tools', ''):\n",
    "            message = metadata['messages'][-1].pretty_print()\n",
    "            print(message)\n",
    "        elif metadata := data.get('researcher', ''):\n",
    "            message = metadata['messages'][-1].pretty_print()\n",
    "            print(message)\n",
    "        # pprint(s)\n",
    "        print(\"----\"*20)"
   ]
  },
  {
   "cell_type": "code",
   "execution_count": null,
   "metadata": {},
   "outputs": [
    {
     "name": "stdout",
     "output_type": "stream",
     "text": [
      "Próximo Node: researcher\n",
      "--------------------------------------------------------------------------------\n",
      "==================================\u001b[1m Ai Message \u001b[0m==================================\n",
      "Tool Calls:\n",
      "  tavily_search_results_json (call_7tlTlIknFwUq1JBya3mN4o5t)\n",
      " Call ID: call_7tlTlIknFwUq1JBya3mN4o5t\n",
      "  Args:\n",
      "    query: 2 + 2\n",
      "  tavily_search_results_json (call_26wPMAmP5O7UuybA9rqyjtbf)\n",
      " Call ID: call_26wPMAmP5O7UuybA9rqyjtbf\n",
      "  Args:\n",
      "    query: What is 2 plus 2?\n",
      "None\n",
      "--------------------------------------------------------------------------------\n",
      "=================================\u001b[1m Tool Message \u001b[0m=================================\n",
      "Name: tavily_search_results_json\n",
      "\n",
      "[{\"url\": \"https://www.numerade.com/ask/question/what-is-2-plus-2-81313/\", \"content\": \"what is 2 plus 2. Instant Video Answer. Instant Text Answer. Step 1/3 Step 1: We have the numbers 2 and 2. Step 2/3 Step 2: We need to add them together. Step 3/3 Step 3: Perform the addition: 2 + 2 = 4. So, the answer is $\\\\boxed{4}$. Video Answers to Similar Questions. Best Matched Videos Solved By Our Top Educators\"}, {\"url\": \"https://www.youtube.com/watch?v=v1xgZ_2gQok\", \"content\": \"Educational Video for Children. What is 2+2? Simple Math to help kids remember by repetition.Crowd Cheering Sound Effect CreditAudio File URL:https://pixabay\"}, {\"url\": \"https://www.numerade.com/ask/question/what-is-2-plus-2/\", \"content\": \"what is 2 plus 2 what is 2 plus 2 Added by Divya M. Instant Answer. Step 1. Here, the numbers are 2 and 2. Show more… Show all steps. View the full answer\"}, {\"url\": \"https://www.math.net/calculators/addition\", \"content\": \"Addition (often signified by the plus symbol \\\"+\\\") is one of the four basic operations of arithmetic, with the others being subtraction, multiplication and division. The addition of two whole numbers is the total amount of those quantities combined.\"}, {\"url\": \"https://www.wolframalpha.com/input?i=2+plus+2\", \"content\": \"Compute answers using Wolfram's breakthrough technology & knowledgebase, relied on by millions of students & professionals. For math, science, nutrition, history\"}]\n",
      "None\n",
      "--------------------------------------------------------------------------------\n",
      "==================================\u001b[1m Ai Message \u001b[0m==================================\n",
      "\n",
      "A pesquisa sobre \"2 + 2\" não forneceu uma resposta direta. No entanto, os resultados sugerem várias fontes que abordam conceitos matemáticos relacionados, como álgebra, exponenciação e operações básicas de matemática. Se precisar de assistência para resolver a expressão matemática \"2 + 2\", por favor, me avise!\n",
      "None\n",
      "--------------------------------------------------------------------------------\n",
      "==================================\u001b[1m Ai Message \u001b[0m==================================\n",
      "Name: researcher\n",
      "\n",
      "A pesquisa sobre \"2 + 2\" não forneceu uma resposta direta. No entanto, os resultados sugerem várias fontes que abordam conceitos matemáticos relacionados, como álgebra, exponenciação e operações básicas de matemática. Se precisar de assistência para resolver a expressão matemática \"2 + 2\", por favor, me avise!\n",
      "None\n",
      "--------------------------------------------------------------------------------\n",
      "Próximo Node: coder\n",
      "--------------------------------------------------------------------------------\n",
      "==================================\u001b[1m Ai Message \u001b[0m==================================\n",
      "Tool Calls:\n",
      "  python_repl_tool (call_wGSV5UgRiquVRKSEUgA8hXlZ)\n",
      " Call ID: call_wGSV5UgRiquVRKSEUgA8hXlZ\n",
      "  Args:\n",
      "    code: 2 + 2\n",
      "None\n",
      "--------------------------------------------------------------------------------\n",
      "=================================\u001b[1m Tool Message \u001b[0m=================================\n",
      "Name: python_repl_tool\n",
      "\n",
      "Successfully executed:\n",
      "\\`\\`\\`python\n",
      "2 + 2\n",
      "\\`\\`\\`\n",
      "Stdout: \n",
      "None\n",
      "--------------------------------------------------------------------------------\n",
      "==================================\u001b[1m Ai Message \u001b[0m==================================\n",
      "\n",
      "A soma de 2 + 2 é igual a 4.\n",
      "None\n",
      "--------------------------------------------------------------------------------\n",
      "--------------------------------------------------------------------------------\n",
      "Próximo Node: __end__\n",
      "--------------------------------------------------------------------------------\n"
     ]
    }
   ],
   "source": [
    "thread_config = {\"configurable\": {\"thread_id\": \"1\"}}\n",
    "run_graph(\"What's the square root of 42?\", thread_config)"
   ]
  },
  {
   "cell_type": "code",
   "execution_count": null,
   "metadata": {},
   "outputs": [
    {
     "name": "stdout",
     "output_type": "stream",
     "text": [
      "Próximo Node: researcher\n",
      "--------------------------------------------------------------------------------\n",
      "==================================\u001b[1m Ai Message \u001b[0m==================================\n",
      "Tool Calls:\n",
      "  tavily_search_results_json (call_xofHZaELFAI0meK7xQHbxTzT)\n",
      " Call ID: call_xofHZaELFAI0meK7xQHbxTzT\n",
      "  Args:\n",
      "    query: current GDP of New York\n",
      "  tavily_search_results_json (call_1NhWqcZPScSDEh4N3yzRM29B)\n",
      " Call ID: call_1NhWqcZPScSDEh4N3yzRM29B\n",
      "  Args:\n",
      "    query: current GDP of California\n",
      "None\n",
      "--------------------------------------------------------------------------------\n",
      "=================================\u001b[1m Tool Message \u001b[0m=================================\n",
      "Name: tavily_search_results_json\n",
      "\n",
      "[{\"url\": \"https://usafacts.org/metrics/gross-domestic-product-gdp-by-state-california/\", \"content\": \"USAFacts -- In 2022 (most recent), Gross domestic product (GDP) was 3598102700000.0 in the United States for California (state). This increased by 224,862,000,000 or\"}, {\"url\": \"https://www.gov.ca.gov/2024/04/16/california-remains-the-worlds-5th-largest-economy/\", \"content\": \"California remains the 5th largest economy in the world since 2017. California is the 5th largest economy in the world for the seventh consecutive year, with a nominal GDP of nearly $3.9 trillion in 2023 and a growth rate of 6.1% since the year prior, according to the U.S. Bureau of Economic Analysis (BEA). On a per capita basis, California is\"}, {\"url\": \"https://en.wikipedia.org/wiki/Economy_of_California\", \"content\": \"This included federal income & payroll ($193.489 bn), excise ($3.227 bn), corporate income ($37.181 bn), gift ($0.288 bn), estate ($2.590 bn), unemployment ($0.838 bn), and trust ($1.091 bn) taxes.[48]\\nState and local tax and fee collections in California (2011) were $268.224 billion plus another $75.875 billion in federal transfers were spent by state and local government agencies.[49]\\nCalifornia in 2010, when measured as a percentage of GDP, had the 4th highest tax burden of all the fifty states at 13.4% of the state GDP.[50]\\nThe maximum 13.3% state personal income tax rate is the highest in the nation, but only applies to incomes over $1 million.[50] For a married couple the first $15,164 has an income tax rate of 1.0% on taxable income (all income minus allowable deductions). Despite the development of other high-tech economic centers throughout the United States and the world, Silicon Valley continues to be a leading hub for high-tech innovation and development, accounting for one-third of all of the venture capital investment in the United States.[23]\\nGeographically, Silicon Valley encompasses all of the Santa Clara Valley, the southern Peninsula, and the southern East Bay. Dairy and dairy products ranked second to almonds with a total export value of $1.42 billion, a 24 percent increase over 2010.[38]\\nCalifornia leads the United States in strawberry production; due to its optimal climate and productive soil, the state is the source of over 80% of the nation's strawberry harvest.[39]\\nEnergy[edit]\\nOil drilling has played a significant role in the development of the state. The loading of such cars with oranges, at Los Angeles on February 14, 1886, started an economic boom in the citrus industry of Southern California, by making deliveries of perishable fruits and vegetables to the eastern United States possible.[citation needed]\\nEarly farming in the state was primarily concentrated near the coast, and the Sacramento–San Joaquin River Delta in the Central Valley. Rates for single persons are the same but the bracket amounts are halved.[51]\\nThe 8.4 percent \\\"average\\\" sales tax assessed by the state and local governments of California is one of the highest in the nation and varies by city and county from a low of 7.25% to 10.0%.\\n\"}, {\"url\": \"https://usafacts.org/topics/economy/state/california/\", \"content\": \"Real gross domestic product (GDP) growth\\nEconomic growth by industry\\nHow big is California's economy?\\nReal gross domestic product (GDP)\\nCalifornia's share of the US economy\\nReal gross domestic product (GDP) by industry\\nMore on the economy from USAFacts\\nHome\\nCalifornia\\nHome\\nEconomy\\nEconomy data trends\\nState\\nCalifornia\\n How is the job market in California?\\nUnemployment rate\\nPublished by the Bureau of Labor Statistics (BLS), the official unemployment rate is the number of active job seekers divided by the labor force. California's share of the US economy\\nIn general, the size of a state’s economy is correlated with the size of its population, though a number of other factors determine its ranking in economic output. Explore this page to learn about the state's economic growth, job market, and economy size, backed by data from reputable sources like the Bureau of Economic Analysis and the Bureau of Labor Statistics.\\n How big is California's economy?\\nReal gross domestic product (GDP)\\nGross domestic product (GDP) is the primary measure of an area’s economy.\"}, {\"url\": \"https://www.statista.com/statistics/187834/gdp-of-the-us-federal-state-of-california-since-1997/\", \"content\": \"Industry Overview\\nDigital & Trend reports\\nOverview and forecasts on trending topics\\nIndustry & Market reports\\nIndustry and market insights and forecasts\\nCompanies & Products reports\\nKey figures and rankings about companies and products\\nConsumer & Brand reports\\nConsumer and brand insights and preferences in various industries\\nPolitics & Society reports\\nDetailed information about political and social topics\\nCountry & Region reports\\nAll key figures about countries and regions\\nMarket forecast and expert KPIs for 1000+ markets in 190+ countries & territories\\nInsights on consumer attitudes and behavior worldwide\\nBusiness information on 100m+ public and private companies\\nExplore Company Insights\\nDetailed information for 39,000+ online stores and marketplaces\\nDirectly accessible data for 170 industries from 150+ countries\\nand over 1 Mio. facts.\\n Statistics on\\n\\\"\\nCalifornia\\n\\\"\\nOther statistics that may interest you California\\nPopulation\\nEconomy\\nEmployment & Earnings\\nState & Local Government\\nMetro Areas\\nFurther related statistics\\nFurther Content: You might find this interesting as well\\nStatistics\\nTopics Other statistics on the topicCalifornia\\nEconomy\\nU.S. leading companies headquartered in California 2023, by number of employees\\nEconomy\\nU.S. average annual wages in California 2018-2026\\nEconomy\\nU.S. California fastest growing private companies 2023, by three year growth rate\\nResidential Real Estate\\nHourly wages needed to afford a two-bedroom apartment in California 2021-23, by metro\\nYou only have access to basic statistics.\\n Additional Information\\nShow sources information\\nShow publisher information\\nUse Ask Statista Research Service\\nMarch 2023\\nUnited States\\n2000 to 2022\\nData presented here is in 2012 chained U.S. dollars.\\n Transforming data into design:\\nStatista Content & Design\\nStrategy and business building for the data-driven economy:\\nU.S. real GDP of California 2000-2022\\nReal gross domestic product of California in the United States from 2000 to 2022\\n(in billion U.S. dollars)\\n\"}]\n",
      "None\n",
      "--------------------------------------------------------------------------------\n",
      "==================================\u001b[1m Ai Message \u001b[0m==================================\n",
      "\n",
      "- The latest GDP of New York is $2,053,179,700,000.\n",
      "- The latest GDP of California is $3,598,102,700,000.\n",
      "\n",
      "Now, let's calculate the average GDP of New York and California.\n",
      "The average GDP of New York and California is calculated by adding the GDP of New York ($2,053,179,700,000) and the GDP of California ($3,598,102,700,000) and then dividing by 2. \n",
      "\n",
      "Let's calculate the average GDP.\n",
      "None\n",
      "--------------------------------------------------------------------------------\n",
      "==================================\u001b[1m Ai Message \u001b[0m==================================\n",
      "Name: researcher\n",
      "\n",
      "- The latest GDP of New York is $2,053,179,700,000.\n",
      "- The latest GDP of California is $3,598,102,700,000.\n",
      "\n",
      "Now, let's calculate the average GDP of New York and California.\n",
      "The average GDP of New York and California is calculated by adding the GDP of New York ($2,053,179,700,000) and the GDP of California ($3,598,102,700,000) and then dividing by 2. \n",
      "\n",
      "Let's calculate the average GDP.\n",
      "None\n",
      "--------------------------------------------------------------------------------\n",
      "Próximo Node: __end__\n",
      "--------------------------------------------------------------------------------\n"
     ]
    }
   ],
   "source": [
    "thread_config = {\"configurable\": {\"thread_id\": \"1\"}}\n",
    "run_graph(\"Find the latest GDP of New York and California, then calculate the average\", thread_config)"
   ]
  },
  {
   "cell_type": "code",
   "execution_count": 41,
   "metadata": {},
   "outputs": [
    {
     "data": {
      "text/plain": [
       "StateSnapshot(values={'messages': [HumanMessage(content='Qunto é 2 + 2?', additional_kwargs={}, response_metadata={}, id='ec6a85dd-6eb4-4fd1-8064-aaacda59fbb1'), AIMessage(content='A pesquisa sobre \"2 + 2\" não forneceu uma resposta direta. No entanto, os resultados sugerem várias fontes que abordam conceitos matemáticos relacionados, como álgebra, exponenciação e operações básicas de matemática. Se precisar de assistência para resolver a expressão matemática \"2 + 2\", por favor, me avise!', additional_kwargs={}, response_metadata={}, name='researcher', id='cc3d953e-e1d1-408c-aa54-ee545e37216f'), HumanMessage(content='A soma de 2 + 2 é igual a 4.', additional_kwargs={}, response_metadata={}, name='coder', id='d7b2206a-ec17-492f-adb3-db2fa5cd22ac'), HumanMessage(content='Find the latest GDP of New York and California, then calculate the average', additional_kwargs={}, response_metadata={}, id='684aba7e-617a-438e-acc7-5a3d38374d60'), AIMessage(content=\"- The latest GDP of New York is $2,053,179,700,000.\\n- The latest GDP of California is $3,598,102,700,000.\\n\\nNow, let's calculate the average GDP of New York and California.\\nThe average GDP of New York and California is calculated by adding the GDP of New York ($2,053,179,700,000) and the GDP of California ($3,598,102,700,000) and then dividing by 2. \\n\\nLet's calculate the average GDP.\", additional_kwargs={}, response_metadata={}, name='researcher', id='59cf66eb-90c1-44e8-9d92-49ea75e2f123')], 'next': '__end__'}, next=(), config={'configurable': {'thread_id': '2', 'checkpoint_ns': '', 'checkpoint_id': '1efab5c0-c1c4-6b4c-800a-36a39c77779c'}}, metadata={'source': 'loop', 'writes': {'supervisor': {'next': '__end__'}}, 'thread_id': '2', 'step': 10, 'parents': {}}, created_at='2024-11-25T18:35:30.029586+00:00', parent_config={'configurable': {'thread_id': '2', 'checkpoint_ns': '', 'checkpoint_id': '1efab5c0-bd95-6957-8009-07096adcb218'}}, tasks=())"
      ]
     },
     "execution_count": 41,
     "metadata": {},
     "output_type": "execute_result"
    }
   ],
   "source": [
    "graph.get_state(thread_config)"
   ]
  }
 ],
 "metadata": {
  "kernelspec": {
   "display_name": ".venv",
   "language": "python",
   "name": "python3"
  },
  "language_info": {
   "codemirror_mode": {
    "name": "ipython",
    "version": 3
   },
   "file_extension": ".py",
   "mimetype": "text/x-python",
   "name": "python",
   "nbconvert_exporter": "python",
   "pygments_lexer": "ipython3",
   "version": "3.10.12"
  }
 },
 "nbformat": 4,
 "nbformat_minor": 2
}
