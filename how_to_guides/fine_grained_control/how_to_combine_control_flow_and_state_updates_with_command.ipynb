{
 "cells": [
  {
   "cell_type": "markdown",
   "id": "1e0f31f8",
   "metadata": {},
   "source": [
    "# How to combine control flow and state updates with Command"
   ]
  },
  {
   "cell_type": "markdown",
   "id": "491e722f",
   "metadata": {},
   "source": [
    "## Setup"
   ]
  },
  {
   "cell_type": "code",
   "execution_count": 1,
   "id": "ab8c9c0e",
   "metadata": {},
   "outputs": [],
   "source": [
    "import random\n",
    "from typing_extensions import TypedDict, Literal\n",
    "\n",
    "from langgraph.graph import StateGraph, START\n",
    "from langgraph.types import Command\n",
    "\n",
    "\n",
    "# Define graph state\n",
    "class State(TypedDict):\n",
    "    foo: str\n",
    "\n",
    "\n",
    "# Define the nodes\n",
    "\n",
    "\n",
    "def node_a(state: State) -> Command[Literal[\"node_b\", \"node_c\"]]:\n",
    "    print(\"Called A\")\n",
    "    value = random.choice([\"a\", \"b\"])\n",
    "    # this is a replacement for a conditional edge function\n",
    "    if value == \"a\":\n",
    "        goto = \"node_b\"\n",
    "    else:\n",
    "        goto = \"node_c\"\n",
    "\n",
    "    # note how Command allows you to BOTH update the graph state AND route to the next node\n",
    "    return Command(\n",
    "        # this is the state update\n",
    "        update={\"foo\": value},\n",
    "        # this is a replacement for an edge\n",
    "        goto=goto,\n",
    "    )\n",
    "\n",
    "\n",
    "def node_b(state: State):\n",
    "    print(\"Called B\")\n",
    "    return {\"foo\": state[\"foo\"] + \"b\"}\n",
    "\n",
    "\n",
    "def node_c(state: State):\n",
    "    print(\"Called C\")\n",
    "    return {\"foo\": state[\"foo\"] + \"c\"}"
   ]
  },
  {
   "cell_type": "code",
   "execution_count": 2,
   "id": "3a87fe7e",
   "metadata": {},
   "outputs": [],
   "source": [
    "builder = StateGraph(State)\n",
    "builder.add_edge(START, \"node_a\")\n",
    "builder.add_node(node_a)\n",
    "builder.add_node(node_b)\n",
    "builder.add_node(node_c)\n",
    "# NOTE: there are no edges between nodes A, B and C!\n",
    "\n",
    "graph = builder.compile()"
   ]
  },
  {
   "cell_type": "code",
   "execution_count": 3,
   "id": "6c19eb47",
   "metadata": {},
   "outputs": [
    {
     "data": {
      "image/png": "[encoded data removed]",
      "text/plain": [
       "<IPython.core.display.Image object>"
      ]
     },
     "metadata": {},
     "output_type": "display_data"
    }
   ],
   "source": [
    "from IPython.display import display, Image\n",
    "\n",
    "display(Image(graph.get_graph().draw_mermaid_png()))"
   ]
  },
  {
   "cell_type": "code",
   "execution_count": 13,
   "id": "efdab3c8",
   "metadata": {},
   "outputs": [
    {
     "name": "stdout",
     "output_type": "stream",
     "text": [
      "Called A\n",
      "Called C\n"
     ]
    },
    {
     "data": {
      "text/plain": [
       "{'foo': 'bc'}"
      ]
     },
     "execution_count": 13,
     "metadata": {},
     "output_type": "execute_result"
    }
   ],
   "source": [
    "graph.invoke({\"foo\": \"\"})"
   ]
  },
  {
   "cell_type": "markdown",
   "id": "3bf75d1d",
   "metadata": {},
   "source": [
    "## Navigating to a node in a parent graph"
   ]
  },
  {
   "cell_type": "code",
   "execution_count": null,
   "id": "db80dbd5",
   "metadata": {},
   "outputs": [],
   "source": [
    "import operator\n",
    "from typing_extensions import Annotated\n",
    "from langgraph.graph import END\n",
    "\n",
    "\n",
    "class State(TypedDict):\n",
    "    # NOTE: we define a reducer here\n",
    "    foo: Annotated[str, operator.add]\n",
    "\n",
    "\n",
    "def node_a(state: State):\n",
    "    print(\"Called A\")\n",
    "    value = random.choice([\"a\", \"b\"])\n",
    "    # this is a replacement for a conditional edge function\n",
    "    if value == \"a\":\n",
    "        goto = \"node_b\"\n",
    "    else:\n",
    "        goto = \"node_c\"\n",
    "\n",
    "    # note how Command allows you to BOTH update the graph state AND route to the next node\n",
    "    return Command(\n",
    "        update={\"foo\": value},\n",
    "        goto=goto,\n",
    "        # this tells LangGraph to navigate to node_b or node_c in the parent graph\n",
    "        # NOTE: this will navigate to the closest parent graph relative to the subgraph\n",
    "        graph=Command.PARENT,\n",
    "    )\n",
    "\n",
    "\n",
    "subgraph = StateGraph(State).add_node(node_a).add_edge(START, \"node_a\").compile()\n",
    "\n",
    "\n",
    "def node_b(state: State):\n",
    "    print(\"Called B\")\n",
    "    # NOTE: since we've defined a reducer, we don't need to manually append\n",
    "    # new characters to existing 'foo' value. instead, reducer will append these\n",
    "    # automatically (via operator.add)\n",
    "    return {\"foo\": \"b\"}\n",
    "\n",
    "\n",
    "def node_c(state: State):\n",
    "    print(\"Called C\")\n",
    "    return {\"foo\": \"c\"}"
   ]
  },
  {
   "cell_type": "code",
   "execution_count": 33,
   "id": "537ca8b1",
   "metadata": {},
   "outputs": [],
   "source": [
    "builder = StateGraph(State)\n",
    "builder.add_edge(START, \"subgraph\")\n",
    "builder.add_node(\"subgraph\", subgraph)\n",
    "builder.add_node(node_b)\n",
    "builder.add_node(node_c)\n",
    "\n",
    "graph = builder.compile()"
   ]
  },
  {
   "cell_type": "code",
   "execution_count": 37,
   "id": "bd1e0f12",
   "metadata": {},
   "outputs": [
    {
     "name": "stdout",
     "output_type": "stream",
     "text": [
      "Called A\n",
      "Called B\n"
     ]
    },
    {
     "data": {
      "text/plain": [
       "{'foo': 'bb'}"
      ]
     },
     "execution_count": 37,
     "metadata": {},
     "output_type": "execute_result"
    }
   ],
   "source": [
    "graph.invoke({\"foo\": \"\"})"
   ]
  }
 ],
 "metadata": {
  "kernelspec": {
   "display_name": ".venv",
   "language": "python",
   "name": "python3"
  },
  "language_info": {
   "codemirror_mode": {
    "name": "ipython",
    "version": 3
   },
   "file_extension": ".py",
   "mimetype": "text/x-python",
   "name": "python",
   "nbconvert_exporter": "python",
   "pygments_lexer": "ipython3",
   "version": "3.11.10"
  }
 },
 "nbformat": 4,
 "nbformat_minor": 5
}
